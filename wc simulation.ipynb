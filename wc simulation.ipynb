{
 "cells": [
  {
   "cell_type": "code",
   "execution_count": 65,
   "id": "altered-austin",
   "metadata": {},
   "outputs": [],
   "source": [
    "import pandas as pd\n",
    "import numpy as np"
   ]
  },
  {
   "cell_type": "code",
   "execution_count": 2,
   "id": "effective-aquarium",
   "metadata": {},
   "outputs": [],
   "source": [
    "import pickle"
   ]
  },
  {
   "cell_type": "code",
   "execution_count": 54,
   "id": "extraordinary-native",
   "metadata": {},
   "outputs": [],
   "source": [
    "from operator import itemgetter"
   ]
  },
  {
   "cell_type": "code",
   "execution_count": 3,
   "id": "british-remove",
   "metadata": {},
   "outputs": [],
   "source": [
    "with open('gb_V2.pkl' , 'rb') as f:\n",
    "    gb = pickle.load(f)"
   ]
  },
  {
   "cell_type": "code",
   "execution_count": 4,
   "id": "breathing-characterization",
   "metadata": {},
   "outputs": [],
   "source": [
    "dfs = pd.read_html(r\"https://en.wikipedia.org/wiki/2022_FIFA_World_Cup#Teams\")"
   ]
  },
  {
   "cell_type": "code",
   "execution_count": 58,
   "id": "operating-reverse",
   "metadata": {},
   "outputs": [],
   "source": [
    "matches = []\n",
    "groups = [\"A\", \"B\", \"C\", \"D\", \"E\", \"F\", \"G\", \"H\"]\n",
    "group_count = 0 \n",
    "\n",
    "table = {}\n",
    "#TABLE -> TEAM, POINTS, WIN PROBS (CRITERIO DE DESEMPATE)\n",
    "table[groups[group_count]] = [[a.split(\" \")[0], 0, []] for a in list(dfs[11].iloc[:, 1].values)]\n",
    "\n",
    "for i in range(12, 67, 1):\n",
    "    if len(dfs[i].columns) == 3:\n",
    "        team_1 = dfs[i].columns.values[0]\n",
    "        team_2 = dfs[i].columns.values[-1]\n",
    "        \n",
    "        matches.append((groups[group_count], team_1, team_2))\n",
    "    else:\n",
    "        group_count+=1\n",
    "        table[groups[group_count]] = [[a, 0, []] for a in list(dfs[i].iloc[:, 1].values)]"
   ]
  },
  {
   "cell_type": "code",
   "execution_count": 59,
   "id": "disciplinary-covering",
   "metadata": {},
   "outputs": [
    {
     "data": {
      "text/plain": [
       "{'A': [['Qatar', 0, []],\n",
       "  ['Ecuador', 0, []],\n",
       "  ['Senegal', 0, []],\n",
       "  ['Netherlands', 0, []]],\n",
       " 'B': [['England', 0, []],\n",
       "  ['Iran', 0, []],\n",
       "  ['United States', 0, []],\n",
       "  ['Wales', 0, []]],\n",
       " 'C': [['Argentina', 0, []],\n",
       "  ['Saudi Arabia', 0, []],\n",
       "  ['Mexico', 0, []],\n",
       "  ['Poland', 0, []]],\n",
       " 'D': [['France', 0, []],\n",
       "  ['Australia', 0, []],\n",
       "  ['Denmark', 0, []],\n",
       "  ['Tunisia', 0, []]],\n",
       " 'E': [['Spain', 0, []],\n",
       "  ['Costa Rica', 0, []],\n",
       "  ['Germany', 0, []],\n",
       "  ['Japan', 0, []]],\n",
       " 'F': [['Belgium', 0, []],\n",
       "  ['Canada', 0, []],\n",
       "  ['Morocco', 0, []],\n",
       "  ['Croatia', 0, []]],\n",
       " 'G': [['Brazil', 0, []],\n",
       "  ['Serbia', 0, []],\n",
       "  ['Switzerland', 0, []],\n",
       "  ['Cameroon', 0, []]],\n",
       " 'H': [['Portugal', 0, []],\n",
       "  ['Ghana', 0, []],\n",
       "  ['Uruguay', 0, []],\n",
       "  ['South Korea', 0, []]]}"
      ]
     },
     "execution_count": 59,
     "metadata": {},
     "output_type": "execute_result"
    }
   ],
   "source": [
    "table"
   ]
  },
  {
   "cell_type": "code",
   "execution_count": 60,
   "id": "southwest-shield",
   "metadata": {},
   "outputs": [
    {
     "data": {
      "text/plain": [
       "[('A', 'Qatar', 'Ecuador'),\n",
       " ('A', 'Senegal', 'Netherlands'),\n",
       " ('A', 'Qatar', 'Senegal'),\n",
       " ('A', 'Netherlands', 'Ecuador'),\n",
       " ('A', 'Ecuador', 'Senegal')]"
      ]
     },
     "execution_count": 60,
     "metadata": {},
     "output_type": "execute_result"
    }
   ],
   "source": [
    "matches[:5]"
   ]
  },
  {
   "cell_type": "code",
   "execution_count": 13,
   "id": "realistic-iceland",
   "metadata": {},
   "outputs": [],
   "source": [
    "base_df = pd.read_csv(\"full_db.csv\")"
   ]
  },
  {
   "cell_type": "code",
   "execution_count": 14,
   "id": "julian-employer",
   "metadata": {},
   "outputs": [
    {
     "data": {
      "text/plain": [
       "Index(['date', 'home_team', 'away_team', 'rank_home', 'rank_away',\n",
       "       'home_score', 'away_score', 'result', 'rank_dif', 'points_dif',\n",
       "       'rank_change_home', 'rank_change_away', 'home_goals_mean',\n",
       "       'home_goals_mean_l5', 'home_goals_suf_mean', 'home_goals_suf_mean_l5',\n",
       "       'home_rank_mean', 'home_rank_mean_l5', 'home_points_mean',\n",
       "       'home_points_mean_l5', 'away_goals_mean', 'away_goals_mean_l5',\n",
       "       'away_goals_suf_mean', 'away_goals_suf_mean_l5', 'away_rank_mean',\n",
       "       'away_rank_mean_l5', 'away_points_mean', 'away_points_mean_l5',\n",
       "       'home_game_points_mean', 'home_game_points_mean_l5',\n",
       "       'home_game_points_rank_mean', 'home_game_points_rank_mean_l5',\n",
       "       'away_game_points_mean', 'away_game_points_mean_l5',\n",
       "       'away_game_points_rank_mean', 'away_game_points_rank_mean_l5',\n",
       "       'is_friendly_0', 'is_friendly_1'],\n",
       "      dtype='object')"
      ]
     },
     "execution_count": 14,
     "metadata": {},
     "output_type": "execute_result"
    }
   ],
   "source": [
    "base_df.columns"
   ]
  },
  {
   "cell_type": "code",
   "execution_count": 15,
   "id": "characteristic-verse",
   "metadata": {},
   "outputs": [],
   "source": [
    "def find_stats(team_1):\n",
    "#team_1 = \"Qatar\"\n",
    "    last_game = base_df[(base_df[\"home_team\"] == team_1) | (base_df[\"away_team\"] == team_1)].tail(1)\n",
    "\n",
    "    if last_game[\"home_team\"].values[0] == team_1:\n",
    "        team_1_rank = last_game[\"rank_home\"].values[0]\n",
    "        team_1_goals = last_game[\"home_goals_mean\"].values[0]\n",
    "        team_1_goals_l5 = last_game[\"home_goals_mean_l5\"].values[0]\n",
    "        team_1_goals_suf = last_game[\"home_goals_suf_mean\"].values[0]\n",
    "        team_1_goals_suf_l5 = last_game[\"home_goals_suf_mean_l5\"].values[0]\n",
    "        team_1_rank_suf = last_game[\"home_rank_mean\"].values[0]\n",
    "        team_1_rank_suf_l5 = last_game[\"home_rank_mean_l5\"].values[0]\n",
    "        team_1_gp_rank = last_game[\"home_game_points_rank_mean\"].values[0]\n",
    "        team_1_gp_rank_l5 = last_game[\"home_game_points_rank_mean_l5\"].values[0]\n",
    "    else:\n",
    "        team_1_rank = last_game[\"rank_away\"].values[0]\n",
    "        team_1_goals = last_game[\"away_goals_mean\"].values[0]\n",
    "        team_1_goals_l5 = last_game[\"away_goals_mean_l5\"].values[0]\n",
    "        team_1_goals_suf = last_game[\"away_goals_suf_mean\"].values[0]\n",
    "        team_1_goals_suf_l5 = last_game[\"away_goals_suf_mean_l5\"].values[0]\n",
    "        team_1_rank_suf = last_game[\"away_rank_mean\"].values[0]\n",
    "        team_1_rank_suf_l5 = last_game[\"away_rank_mean_l5\"].values[0]\n",
    "        team_1_gp_rank = last_game[\"away_game_points_rank_mean\"].values[0]\n",
    "        team_1_gp_rank_l5 = last_game[\"away_game_points_rank_mean_l5\"].values[0]\n",
    "    \n",
    "    return [team_1_rank, team_1_goals, team_1_goals_l5, team_1_goals_suf, team_1_goals_suf_l5, team_1_rank_suf, team_1_rank_suf_l5, team_1_gp_rank, team_1_gp_rank_l5]"
   ]
  },
  {
   "cell_type": "code",
   "execution_count": 26,
   "id": "joined-alaska",
   "metadata": {},
   "outputs": [],
   "source": [
    "def find_features(team_1, team_2):\n",
    "    rank_dif = team_1[0] - team_2[0]\n",
    "    goals_dif = team_1[1] - team_2[1]\n",
    "    goals_dif_l5 = team_1[2] - team_2[2]\n",
    "    goals_suf_dif = team_1[3] - team_2[3]\n",
    "    goals_suf_dif_l5 = team_1[4] - team_2[4]\n",
    "    goals_per_ranking_dif = (team_1[1]/team_1[5]) - (team_2[1]/team_2[5])\n",
    "    dif_rank_agst = team_1[5] - team_2[5]\n",
    "    dif_rank_agst_l5 = team_1[6] - team_2[6]\n",
    "    dif_gp_rank = team_1[7] - team_2[7]\n",
    "    dif_gp_rank_l5 = team_1[8] - team_2[8]\n",
    "    \n",
    "    return [rank_dif, goals_dif, goals_dif_l5, goals_suf_dif, goals_suf_dif_l5, goals_per_ranking_dif, dif_rank_agst, dif_rank_agst_l5, dif_gp_rank, dif_gp_rank_l5, 1, 0]"
   ]
  },
  {
   "cell_type": "code",
   "execution_count": 88,
   "id": "ongoing-success",
   "metadata": {
    "scrolled": false
   },
   "outputs": [
    {
     "name": "stdout",
     "output_type": "stream",
     "text": [
      "\n",
      "\n",
      "---------- Starting Analysis for Group A ----------\n",
      "Group A - Qatar vs. Ecuador: Winner Ecuador with 0.67 probability\n",
      "Group A - Senegal vs. Netherlands: Winner Netherlands with 0.65 probability\n",
      "Group A - Qatar vs. Senegal: Winner Senegal with 0.62 probability\n",
      "Group A - Netherlands vs. Ecuador: Winner Netherlands with 0.67 probability\n",
      "Group A - Ecuador vs. Senegal: Draw\n",
      "Group A - Netherlands vs. Qatar: Winner Netherlands with 0.75 probability\n",
      "\n",
      "\n",
      "Group A advanced: \n",
      "Netherlands -------- 9\n",
      "Senegal -------- 4\n",
      "Ecuador -------- 4\n",
      "Qatar -------- 0\n",
      "\n",
      "\n",
      "---------- Starting Analysis for Group B ----------\n",
      "Group B - England vs. Iran: Winner England with 0.52 probability\n",
      "Group B - United States vs. Wales: Draw\n",
      "Group B - Wales vs. Iran: Draw\n",
      "Group B - England vs. United States: Winner England with 0.52 probability\n",
      "Group B - Wales vs. England: Winner England with 0.77 probability\n",
      "Group B - Iran vs. United States: Winner United States with 0.65 probability\n",
      "\n",
      "\n",
      "Group B advanced: \n",
      "England -------- 9\n",
      "United States -------- 4\n",
      "Wales -------- 2\n",
      "Iran -------- 1\n",
      "\n",
      "\n",
      "---------- Starting Analysis for Group C ----------\n",
      "Group C - Argentina vs. Saudi Arabia: Winner Argentina with 0.77 probability\n",
      "Group C - Mexico vs. Poland: Winner Poland with 0.61 probability\n",
      "Group C - Poland vs. Saudi Arabia: Winner Poland with 0.70 probability\n",
      "Group C - Argentina vs. Mexico: Winner Argentina with 0.61 probability\n",
      "Group C - Poland vs. Argentina: Winner Argentina with 0.77 probability\n",
      "Group C - Saudi Arabia vs. Mexico: Winner Mexico with 0.76 probability\n",
      "\n",
      "\n",
      "Group C advanced: \n",
      "Argentina -------- 9\n",
      "Poland -------- 6\n",
      "Mexico -------- 3\n",
      "Saudi Arabia -------- 0\n",
      "\n",
      "\n",
      "---------- Starting Analysis for Group D ----------\n",
      "Group D - Denmark vs. Tunisia: Winner Denmark with 0.55 probability\n",
      "Group D - France vs. Australia: Winner France with 0.71 probability\n",
      "Group D - Tunisia vs. Australia: Draw\n",
      "Group D - France vs. Denmark: Draw\n",
      "Group D - Australia vs. Denmark: Winner Denmark with 0.72 probability\n",
      "Group D - Tunisia vs. France: Winner France with 0.72 probability\n",
      "\n",
      "\n",
      "Group D advanced: \n",
      "France -------- 7\n",
      "Denmark -------- 7\n",
      "Tunisia -------- 1\n",
      "Australia -------- 1\n",
      "\n",
      "\n",
      "---------- Starting Analysis for Group E ----------\n",
      "Group E - Germany vs. Japan: Winner Germany with 0.53 probability\n",
      "Group E - Spain vs. Costa Rica: Winner Spain with 0.66 probability\n",
      "Group E - Japan vs. Costa Rica: Winner Japan with 0.52 probability\n",
      "Group E - Spain vs. Germany: Draw\n",
      "Group E - Japan vs. Spain: Winner Spain with 0.73 probability\n",
      "Group E - Costa Rica vs. Germany: Winner Germany with 0.74 probability\n",
      "\n",
      "\n",
      "Group E advanced: \n",
      "Spain -------- 7\n",
      "Germany -------- 7\n",
      "Japan -------- 3\n",
      "Costa Rica -------- 0\n",
      "\n",
      "\n",
      "---------- Starting Analysis for Group F ----------\n",
      "Group F - Morocco vs. Croatia: Winner Croatia with 0.65 probability\n",
      "Group F - Belgium vs. Canada: Winner Belgium with 0.72 probability\n",
      "Group F - Belgium vs. Morocco: Winner Belgium with 0.56 probability\n",
      "Group F - Croatia vs. Canada: Winner Croatia with 0.65 probability\n",
      "Group F - Croatia vs. Belgium: Winner Belgium with 0.74 probability\n",
      "Group F - Canada vs. Morocco: Winner Morocco with 0.56 probability\n",
      "\n",
      "\n",
      "Group F advanced: \n",
      "Belgium -------- 9\n",
      "Croatia -------- 6\n",
      "Morocco -------- 3\n",
      "Canada -------- 0\n",
      "\n",
      "\n",
      "---------- Starting Analysis for Group G ----------\n",
      "Group G - Switzerland vs. Cameroon: Winner Switzerland with 0.63 probability\n",
      "Group G - Brazil vs. Serbia: Winner Brazil with 0.68 probability\n",
      "Group G - Cameroon vs. Serbia: Winner Serbia with 0.74 probability\n",
      "Group G - Brazil vs. Switzerland: Draw\n",
      "Group G - Serbia vs. Switzerland: Winner Switzerland with 0.63 probability\n",
      "Group G - Cameroon vs. Brazil: Winner Brazil with 0.83 probability\n",
      "\n",
      "\n",
      "Group G advanced: \n",
      "Brazil -------- 7\n",
      "Switzerland -------- 7\n",
      "Serbia -------- 3\n",
      "Cameroon -------- 0\n",
      "\n",
      "\n",
      "---------- Starting Analysis for Group H ----------\n",
      "Group H - Uruguay vs. South Korea: Winner Uruguay with 0.55 probability\n",
      "Group H - Portugal vs. Ghana: Winner Portugal with 0.80 probability\n",
      "Group H - South Korea vs. Ghana: Winner South Korea with 0.66 probability\n",
      "Group H - Portugal vs. Uruguay: Winner Portugal with 0.51 probability\n",
      "Group H - Ghana vs. Uruguay: Winner Uruguay with 0.77 probability\n",
      "Group H - South Korea vs. Portugal: Winner Portugal with 0.76 probability\n",
      "\n",
      "\n",
      "Group H advanced: \n",
      "Portugal -------- 9\n",
      "Uruguay -------- 6\n",
      "South Korea -------- 3\n",
      "Ghana -------- 0\n"
     ]
    }
   ],
   "source": [
    "advanced_group = []\n",
    "last_group = \"\"\n",
    "thresh = 0.05\n",
    "\n",
    "for k in table.keys():\n",
    "    for t in table[k]:\n",
    "        t[1] = 0\n",
    "        t[2] = []\n",
    "        \n",
    "for teams in matches:\n",
    "    draw = False\n",
    "    team_1 = find_stats(teams[1])\n",
    "    team_2 = find_stats(teams[2])\n",
    "\n",
    "    \n",
    "\n",
    "    features = find_features(team_1, team_2)\n",
    "    \n",
    "    \n",
    "In [120]:\n",
    "￼\n",
    "​\n",
    "Out[120]:\n",
    "[['Netherlands', 'United States'],\n",
    " ['Argentina', 'Denmark'],\n",
    "In [120]:\n",
    "￼\n",
    "​\n",
    "Out[120]:\n",
    "[['Netherlands', 'United States'],\n",
    " ['Argentina', 'Denmark'],\n",
    "    \n",
    "    if (team_1_prob + thresh >= team_2_prob - thresh) & (team_1_prob < team_2_prob):\n",
    "        draw=True\n",
    "        for i in table[teams[0]]:\n",
    "            if i[0] == teams[1] or i[0] == teams[2]:\n",
    "                i[1] += 1\n",
    "                \n",
    "    elif team_1_prob >= team_2_prob:\n",
    "        winner = teams[1]\n",
    "        winner_proba = team_1_prob\n",
    "        for i in table[teams[0]]:\n",
    "            if i[0] == teams[1]:\n",
    "                i[1] += 3\n",
    "                \n",
    "    elif team_1_prob + thresh < team_2_prob - thresh:  \n",
    "        winner = teams[2]\n",
    "        winner_proba = team_2_prob\n",
    "        for i in table[teams[0]]:\n",
    "            if i[0] == teams[2]:\n",
    "                i[1] += 3\n",
    "    \n",
    "    for i in table[teams[0]]: #adding criterio de desempate (probs por jogo)\n",
    "            if i[0] == teams[1]:\n",
    "                i[2].append(team_1_prob)\n",
    "            if i[0] == teams[2]:\n",
    "                i[2].append(team_2_prob)\n",
    "\n",
    "    if last_group != teams[0]:\n",
    "        if last_group != \"\":\n",
    "            print(\"\\n\")\n",
    "            print(\"Group %s advanced: \"%(last_group))\n",
    "            \n",
    "            for i in table[last_group]: #adding crieterio de desempate\n",
    "                i[2] = np.mean(i[2])\n",
    "            \n",
    "            final_points = table[last_group]\n",
    "            final_table = sorted(final_points, key=itemgetter(1, 2), reverse = True)\n",
    "            advanced_group.append([final_table[0][0], final_table[1][0]])\n",
    "            for i in final_table:\n",
    "                print(\"%s -------- %d\"%(i[0], i[1]))\n",
    "        print(\"\\n\")\n",
    "        print(\"-\"*10+\" Starting Analysis for Group %s \"%(teams[0])+\"-\"*10)\n",
    "        \n",
    "        \n",
    "    if draw == False:\n",
    "        print(\"Group %s - %s vs. %s: Winner %s with %.2f probability\"%(teams[0], teams[1], teams[2], winner, winner_proba))\n",
    "    else:\n",
    "        print(\"Group %s - %s vs. %s: Draw\"%(teams[0], teams[1], teams[2]))\n",
    "    last_group =  teams[0]\n",
    "\n",
    "print(\"\\n\")\n",
    "print(\"Group %s advanced: \"%(last_group))\n",
    "\n",
    "for i in table[last_group]: #adding crieterio de desempate\n",
    "    i[2] = np.mean(i[2])\n",
    "            \n",
    "final_points = table[last_group]\n",
    "final_table = sorted(final_points, key=itemgetter(1, 2), reverse = True)\n",
    "advanced_group.append([final_table[0][0], final_table[1][0]])\n",
    "for i in final_table:\n",
    "    print(\"%s -------- %d\"%(i[0], i[1]))"
   ]
  },
  {
   "cell_type": "code",
   "execution_count": 89,
   "id": "defensive-grenada",
   "metadata": {
    "scrolled": true
   },
   "outputs": [],
   "source": [
    "advanced = advanced_group"
   ]
  },
  {
   "cell_type": "code",
   "execution_count": 82,
   "id": "lucky-system",
   "metadata": {},
   "outputs": [],
   "source": [
    "playoffs = {\"Round of 16\": [], \"Quarter-Final\": [], \"Semi-Final\": [], \"Final\": []}"
   ]
  },
  {
   "cell_type": "code",
   "execution_count": 130,
   "id": "separated-password",
   "metadata": {},
   "outputs": [
    {
     "name": "stdout",
     "output_type": "stream",
     "text": [
      "----------\n",
      "Starting simulation of Round of 16\n",
      "----------\n",
      "\n",
      "\n",
      "Netherlands vs. United States: United States advances with prob 0.52\n",
      "Argentina vs. Denmark: Argentina advances with prob 0.57\n",
      "Spain vs. Croatia: Spain advances with prob 0.53\n",
      "Brazil vs. Uruguay: Brazil advances with prob 0.55\n",
      "England vs. Senegal: England advances with prob 0.55\n",
      "France vs. Poland: France advances with prob 0.60\n",
      "Belgium vs. Germany: Germany advances with prob 0.54\n",
      "Portugal vs. Switzerland: Switzerland advances with prob 0.53\n",
      "----------\n",
      "Starting simulation of Quarter-Final\n",
      "----------\n",
      "\n",
      "\n",
      "United States vs. Argentina: Argentina advances with prob 0.73\n",
      "Spain vs. Brazil: Brazil advances with prob 0.62\n",
      "England vs. France: France advances with prob 0.58\n",
      "Germany vs. Switzerland: Switzerland advances with prob 0.52\n",
      "----------\n",
      "Starting simulation of Semi-Final\n",
      "----------\n",
      "\n",
      "\n",
      "Argentina vs. Brazil: Brazil advances with prob 0.66\n",
      "France vs. Switzerland: France advances with prob 0.53\n",
      "----------\n",
      "Starting simulation of Final\n",
      "----------\n",
      "\n",
      "\n",
      "Brazil vs. France: France advances with prob 0.51\n"
     ]
    }
   ],
   "source": [
    "for p in playoffs.keys():\n",
    "    playoffs[p] = []\n",
    "\n",
    "actual_round = \"\"\n",
    "next_rounds = []\n",
    "\n",
    "for p in playoffs.keys():\n",
    "    if p == \"Round of 16\":\n",
    "        control = []\n",
    "        for a in range(0, len(advanced*2), 1):\n",
    "            if a < len(advanced):\n",
    "                if a % 2 == 0:\n",
    "                    control.append((advanced*2)[a][0])\n",
    "                else:\n",
    "                    control.append((advanced*2)[a][1])\n",
    "            else:\n",
    "                if a % 2 == 0:\n",
    "                    control.append((advanced*2)[a][1])\n",
    "                else:\n",
    "                    control.append((advanced*2)[a][0])\n",
    "\n",
    "        playoffs[p] = [[control[c], control[c+1]] for c in range(0, len(control)-1, 1) if c%2 == 0]\n",
    "        \n",
    "        for i in range(0, len(playoffs[p]), 1):\n",
    "            game = playoffs[p][i]\n",
    "            if i < len(advanced)/2:\n",
    "                home = game[0]\n",
    "                away = game[1]\n",
    "                team_1 = find_stats(home)\n",
    "                team_2 = find_stats(away)\n",
    "            else:\n",
    "                home = game[1]\n",
    "                away = game[0]\n",
    "                team_1 = find_stats(home)\n",
    "                team_2 = find_stats(away)\n",
    "            features = find_features(team_1, team_2)\n",
    "            \n",
    "            probs = gb.predict_proba([features])\n",
    "            team_1_prob = probs[0][0]\n",
    "            team_2_prob = probs[0][1]\n",
    "            \n",
    "            if actual_round != p:\n",
    "                print(\"-\"*10)\n",
    "                print(\"Starting simulation of %s\"%(p))\n",
    "                print(\"-\"*10)\n",
    "                print(\"\\n\")\n",
    "            \n",
    "            if team_1_prob < team_2_prob:\n",
    "                print(\"%s vs. %s: %s advances with prob %.2f\"%(home, away, away, team_2_prob))\n",
    "                next_rounds.append(away)\n",
    "            else:\n",
    "                print(\"%s vs. %s: %s advances with prob %.2f\"%(home, away, home, team_1_prob))\n",
    "                next_rounds.append(home)\n",
    "            actual_round = p\n",
    "        \n",
    "    else:\n",
    "        playoffs[p] = [[next_rounds[c], next_rounds[c+1]] for c in range(0, len(next_rounds)-1, 1) if c%2 == 0]\n",
    "        next_rounds = []\n",
    "        for game in playoffs[p]:\n",
    "            home = game[0]\n",
    "            away = game[1]\n",
    "            team_1 = find_stats(home)\n",
    "            team_2 = find_stats(away)\n",
    "            features = find_features(team_1, team_2)\n",
    "            \n",
    "            probs = gb.predict_proba([features])\n",
    "            team_1_prob = probs[0][0]\n",
    "            team_2_prob = probs[0][1]\n",
    "            \n",
    "            if actual_round != p:\n",
    "                print(\"-\"*10)\n",
    "                print(\"Starting simulation of %s\"%(p))\n",
    "                print(\"-\"*10)\n",
    "                print(\"\\n\")\n",
    "            \n",
    "            if team_1_prob < team_2_prob:\n",
    "                print(\"%s vs. %s: %s advances with prob %.2f\"%(home, away, away, team_2_prob))\n",
    "                next_rounds.append(away)\n",
    "            else:\n",
    "                print(\"%s vs. %s: %s advances with prob %.2f\"%(home, away, home, team_1_prob))\n",
    "                next_rounds.append(home)\n",
    "            actual_round = p"
   ]
  },
  {
   "cell_type": "code",
   "execution_count": 135,
   "id": "elegant-council",
   "metadata": {
    "scrolled": true
   },
   "outputs": [
    {
     "data": {
      "text/plain": [
       "{'Round of 16': [['Netherlands', 'United States'],\n",
       "  ['Argentina', 'Denmark'],\n",
       "  ['Spain', 'Croatia'],\n",
       "  ['Brazil', 'Uruguay'],\n",
       "  ['Senegal', 'England'],\n",
       "  ['Poland', 'France'],\n",
       "  ['Germany', 'Belgium'],\n",
       "  ['Switzerland', 'Portugal']],\n",
       " 'Quarter-Final': [['United States', 'Argentina'],\n",
       "  ['Spain', 'Brazil'],\n",
       "  ['England', 'France'],\n",
       "  ['Germany', 'Switzerland']],\n",
       " 'Semi-Final': [['Argentina', 'Brazil'], ['France', 'Switzerland']],\n",
       " 'Final': [['Brazil', 'France']]}"
      ]
     },
     "execution_count": 135,
     "metadata": {},
     "output_type": "execute_result"
    }
   ],
   "source": [
    "playoffs"
   ]
  },
  {
   "cell_type": "code",
   "execution_count": null,
   "id": "studied-pharmacology",
   "metadata": {},
   "outputs": [],
   "source": []
  },
  {
   "cell_type": "code",
   "execution_count": null,
   "id": "hybrid-field",
   "metadata": {},
   "outputs": [],
   "source": []
  },
  {
   "cell_type": "code",
   "execution_count": null,
   "id": "adjustable-connecticut",
   "metadata": {},
   "outputs": [],
   "source": []
  },
  {
   "cell_type": "code",
   "execution_count": 134,
   "id": "automated-reading",
   "metadata": {},
   "outputs": [
    {
     "data": {
      "text/plain": [
       "[-3.0,\n",
       " 0.056882327399045085,\n",
       " 2.4,\n",
       " -0.4198871037776813,\n",
       " -0.8,\n",
       " 0.0173815667174778,\n",
       " -10.858011289622233,\n",
       " 20.799999999999997,\n",
       " -0.06742210342186801,\n",
       " 0.0511841004901866,\n",
       " 1,\n",
       " 0]"
      ]
     },
     "execution_count": 134,
     "metadata": {},
     "output_type": "execute_result"
    }
   ],
   "source": [
    "find_features(find_stats(\"Brazil\"), find_stats(\"France\"))"
   ]
  },
  {
   "cell_type": "code",
   "execution_count": 120,
   "id": "absent-modeling",
   "metadata": {},
   "outputs": [
    {
     "data": {
      "text/plain": [
       "[['Netherlands', 'United States'],\n",
       " ['Argentina', 'Denmark'],\n",
       " ['Spain', 'Croatia'],\n",
       " ['Brazil', 'Uruguay'],\n",
       " ['Senegal', 'England'],\n",
       " ['Poland', 'France'],\n",
       " ['Germany', 'Belgium'],\n",
       " ['Switzerland', 'Portugal']]"
      ]
     },
     "execution_count": 120,
     "metadata": {},
     "output_type": "execute_result"
    }
   ],
   "source": []
  },
  {
   "cell_type": "code",
   "execution_count": null,
   "id": "german-softball",
   "metadata": {},
   "outputs": [],
   "source": []
  }
 ],
 "metadata": {
  "kernelspec": {
   "display_name": "Python 3",
   "language": "python",
   "name": "python3"
  },
  "language_info": {
   "codemirror_mode": {
    "name": "ipython",
    "version": 3
   },
   "file_extension": ".py",
   "mimetype": "text/x-python",
   "name": "python",
   "nbconvert_exporter": "python",
   "pygments_lexer": "ipython3",
   "version": "3.7.6"
  }
 },
 "nbformat": 4,
 "nbformat_minor": 5
}
